{
 "cells": [
  {
   "cell_type": "markdown",
   "metadata": {},
   "source": [
    "# Exercises with Python"
   ]
  },
  {
   "cell_type": "code",
   "execution_count": 252,
   "metadata": {},
   "outputs": [],
   "source": [
    "import numpy as np\n",
    "import matplotlib.pyplot as plt\n",
    "import pandas as pd"
   ]
  },
  {
   "cell_type": "markdown",
   "metadata": {},
   "source": [
    "## Exercise 1 - Numpy\n",
    "#### Creat an array of 450 random integers between -10 and 10"
   ]
  },
  {
   "cell_type": "code",
   "execution_count": 254,
   "metadata": {},
   "outputs": [
    {
     "name": "stdout",
     "output_type": "stream",
     "text": [
      "[  9  -4   0  -1 -10  -7  -9   0  -6   9  -2   4   4   5   0   1   8  -8\n",
      "  -2  -3   2  -7   8   7  -3   6  -8   9  -3  -9  -8  -4  -1   5  -2  -9\n",
      "   5  -6  -7   2  -6   0  -7   8  -5   0 -10   8  -1   8  -3 -10  -6   6\n",
      "  -1   8  -1   6   0  -4   9  -3   1   4   4   0  -4   9   6   7   3  -6\n",
      "  -5  -1   6   5  -6   8   7   5  -8   1  -5  -5  -9  10   9  -3   1   9\n",
      "  10   0  -6  -3 -10  -6   5   6  -6   3   4  -7   7   3  -8  -5   2  -9\n",
      "   5 -10  10  -8  -8  -2   1  -7   6  -9 -10  -1  -7  -1 -10 -10   0  -8\n",
      "  -8  -8  -5  -3  -3  -5  -7  -8   2  -4   6   4   1   6   9  -3  -9  -3\n",
      "   7   5  -2  -8 -10   8   3  -8   9  -9   4   7  10 -10  -9   3  -2  -7\n",
      "   4   5  -7   7   8   1  -6  -7   0   9   5  10  -9  -4  -8  -5   9 -10\n",
      "   1   3   2  10   7  -4  -8   4   6   0  -5 -10  -7  -3  -7   8  -9  -6\n",
      "   8  -5   9   1  -6  -5  -8  -5   4  -8   4  -4  -9  -7   7   5  -2  -4\n",
      "  -6   7  -9   0  -1   9  -5 -10  -9   9   4   2 -10  -8   1  -7  -3  -7\n",
      "  -6   1   3  10  10  -9   9  -2  -1   7  -7  -9   3  -8  -2  10  -5 -10\n",
      "   7   7  -9   1   5  -9   3  -7   6  -3  -5   8   7   9   3   6   5   3\n",
      "  10  -8  -5   1   9  -4   4  -7   4   7  -6   5   3  -5  -4  -1   8   9\n",
      "  -7   1   4  -2  -4  -1  -9   4  -4   3  -7  -9   8   7   7   3  -4   3\n",
      "   8  -9   1   1   8  10   2   1   8   9  -2  -3  -2  -9   9  -3   6  -2\n",
      "  -2  -1  -7   8   5   9  10  -6  10  -5  -8  10   5  -8   4   5  -6  -6\n",
      "  -7  -9  -1  -6   7   1  10  -5  -1   5  -9   4  -2   5   5  -6   9   2\n",
      "   5  -7   4   1   8  -3   9  -1  -6   9  10  10  -4  -8   6  -3   7  -9\n",
      "  -1   3   4  -4   7 -10   8  10   2   5  -1  10   8   2  -2  -5  -9   0\n",
      "  -1  -9   9  -2  -1   7   7   1   1  -2   4   5  -5   2  -3  -3   9  -1\n",
      "   8  -5  -7  -2   0   8  -4   1   1 -10   4  -9  -9   8   6   6  -6  -8\n",
      "   3  -4   0   0  -2  -7  -5 -10  -7  -5   3   2   9  -6  -8   6  -8   0]\n",
      "(450,)\n"
     ]
    }
   ],
   "source": [
    "import numpy as np\n",
    "import matplotlib.pyplot as plt\n",
    "import pandas as pd\n",
    "\n",
    "# Your code: \n",
    "import random\n",
    "\n",
    "#use numpy random for seledcting ints of a certain range, into an array of size\n",
    "array = np.random.randint(-10, 11, size=450)\n",
    "\n",
    "print(array)\n",
    "    \n",
    "shape = array.shape\n",
    "print(shape)"
   ]
  },
  {
   "cell_type": "markdown",
   "metadata": {},
   "source": [
    "#### Resize the above array as a 5x70 matrix. \n",
    "#### Is there a problem? \n",
    "\n",
    "#### If there is, correct it to a suitable shape.\n",
    "\n",
    "We check what dimension our array has:"
   ]
  },
  {
   "cell_type": "code",
   "execution_count": 256,
   "metadata": {
    "scrolled": true
   },
   "outputs": [
    {
     "name": "stdout",
     "output_type": "stream",
     "text": [
      "(450,)\n",
      "-4\n",
      "Values do not fit in array\n"
     ]
    }
   ],
   "source": [
    "# Your code:\n",
    "print(array.shape)\n",
    "print(array[1])\n",
    "\n",
    "#using a try catch cuz the math wont work for the size 5,70.\n",
    "try:\n",
    "    #reshape reshapes an array to the input size\n",
    "    new_matrix = array.reshape(5, 70)\n",
    "    print(new_matrix.shape)\n",
    "\n",
    "# Is there a problem? why?\n",
    "#450 values wont fit in a 5*70 array\n",
    "#Please add your idea\n",
    "except ValueError:\n",
    "     print(\"Values do not fit in array\")\n"
   ]
  },
  {
   "cell_type": "markdown",
   "metadata": {},
   "source": [
    "We resize:"
   ]
  },
  {
   "cell_type": "code",
   "execution_count": 258,
   "metadata": {},
   "outputs": [
    {
     "name": "stdout",
     "output_type": "stream",
     "text": [
      "(5, 90)\n",
      "[[  9  -4   0  -1 -10  -7  -9   0  -6   9  -2   4   4   5   0   1   8  -8\n",
      "   -2  -3   2  -7   8   7  -3   6  -8   9  -3  -9  -8  -4  -1   5  -2  -9\n",
      "    5  -6  -7   2  -6   0  -7   8  -5   0 -10   8  -1   8  -3 -10  -6   6\n",
      "   -1   8  -1   6   0  -4   9  -3   1   4   4   0  -4   9   6   7   3  -6\n",
      "   -5  -1   6   5  -6   8   7   5  -8   1  -5  -5  -9  10   9  -3   1   9]\n",
      " [ 10   0  -6  -3 -10  -6   5   6  -6   3   4  -7   7   3  -8  -5   2  -9\n",
      "    5 -10  10  -8  -8  -2   1  -7   6  -9 -10  -1  -7  -1 -10 -10   0  -8\n",
      "   -8  -8  -5  -3  -3  -5  -7  -8   2  -4   6   4   1   6   9  -3  -9  -3\n",
      "    7   5  -2  -8 -10   8   3  -8   9  -9   4   7  10 -10  -9   3  -2  -7\n",
      "    4   5  -7   7   8   1  -6  -7   0   9   5  10  -9  -4  -8  -5   9 -10]\n",
      " [  1   3   2  10   7  -4  -8   4   6   0  -5 -10  -7  -3  -7   8  -9  -6\n",
      "    8  -5   9   1  -6  -5  -8  -5   4  -8   4  -4  -9  -7   7   5  -2  -4\n",
      "   -6   7  -9   0  -1   9  -5 -10  -9   9   4   2 -10  -8   1  -7  -3  -7\n",
      "   -6   1   3  10  10  -9   9  -2  -1   7  -7  -9   3  -8  -2  10  -5 -10\n",
      "    7   7  -9   1   5  -9   3  -7   6  -3  -5   8   7   9   3   6   5   3]\n",
      " [ 10  -8  -5   1   9  -4   4  -7   4   7  -6   5   3  -5  -4  -1   8   9\n",
      "   -7   1   4  -2  -4  -1  -9   4  -4   3  -7  -9   8   7   7   3  -4   3\n",
      "    8  -9   1   1   8  10   2   1   8   9  -2  -3  -2  -9   9  -3   6  -2\n",
      "   -2  -1  -7   8   5   9  10  -6  10  -5  -8  10   5  -8   4   5  -6  -6\n",
      "   -7  -9  -1  -6   7   1  10  -5  -1   5  -9   4  -2   5   5  -6   9   2]\n",
      " [  5  -7   4   1   8  -3   9  -1  -6   9  10  10  -4  -8   6  -3   7  -9\n",
      "   -1   3   4  -4   7 -10   8  10   2   5  -1  10   8   2  -2  -5  -9   0\n",
      "   -1  -9   9  -2  -1   7   7   1   1  -2   4   5  -5   2  -3  -3   9  -1\n",
      "    8  -5  -7  -2   0   8  -4   1   1 -10   4  -9  -9   8   6   6  -6  -8\n",
      "    3  -4   0   0  -2  -7  -5 -10  -7  -5   3   2   9  -6  -8   6  -8   0]]\n"
     ]
    }
   ],
   "source": [
    "    #reshape reshapes an aray to the specified size, provided enough elements.\n",
    "    corrected_matrix = array.reshape(5, 90)\n",
    "    #test prints\n",
    "    print(corrected_matrix.shape)\n",
    "    print(corrected_matrix)\n"
   ]
  },
  {
   "cell_type": "markdown",
   "metadata": {},
   "source": [
    "#### Choose values greater than 0 from your corrected_matrix."
   ]
  },
  {
   "cell_type": "code",
   "execution_count": 260,
   "metadata": {},
   "outputs": [
    {
     "name": "stdout",
     "output_type": "stream",
     "text": [
      "test\n",
      "[ 9  9  4  4  5  1  8  2  8  7  6  9  5  5  2  8  8  8  6  8  6  9  1  4\n",
      "  4  9  6  7  3  6  5  8  7  5  1 10  9  1  9 10  5  6  3  4  7  3  2  5\n",
      " 10  1  6  2  6  4  1  6  9  7  5  8  3  9  4  7 10  3  4  5  7  8  1  9\n",
      "  5 10  9  1  3  2 10  7  4  6  8  8  9  1  4  4  7  5  7  9  9  4  2  1\n",
      "  1  3 10 10  9  7  3 10  7  7  1  5  3  6  8  7  9  3  6  5  3 10  1  9\n",
      "  4  4  7  5  3  8  9  1  4  4  3  8  7  7  3  3  8  1  1  8 10  2  1  8\n",
      "  9  9  6  8  5  9 10 10 10  5  4  5  7  1 10  5  4  5  5  9  2  5  4  1\n",
      "  8  9  9 10 10  6  7  3  4  7  8 10  2  5 10  8  2  9  7  7  1  1  4  5\n",
      "  2  9  8  8  1  1  4  8  6  6  3  3  2  9  6]\n"
     ]
    }
   ],
   "source": [
    "# Your code\n",
    "# im not sure what \"Choose values greater than 0\" means\n",
    "# i am intepereting this as \"create an array with values greater than zero from the matrix)\n",
    "positiveValues = np.array([])\n",
    "print(\"test\")\n",
    "\n",
    "#cant get index pulling in 2d array\n",
    "corrected_matrix = array.reshape(450)\n",
    "\n",
    "#use np where to pull indexes of array values meeting a requirement.\n",
    "positiveValues = array[np.where(corrected_matrix > 0)]\n",
    "\n",
    "print(positiveValues)"
   ]
  },
  {
   "cell_type": "markdown",
   "metadata": {},
   "source": [
    "#### Given this array x = np.array ([- 5,6, -7,9]), create another array in absolute value "
   ]
  },
  {
   "cell_type": "code",
   "execution_count": 262,
   "metadata": {},
   "outputs": [
    {
     "name": "stdout",
     "output_type": "stream",
     "text": [
      "[5 6 7 9]\n"
     ]
    }
   ],
   "source": [
    "# your code:\n",
    "x = np.array ([- 5,6, -7,9])\n",
    "#np.abs sets all values in an array to their abs value\n",
    "AbsArray =  np.abs(x)\n",
    "print(AbsArray)\n"
   ]
  },
  {
   "cell_type": "markdown",
   "metadata": {},
   "source": [
    "#### Given this array x = np.array ([- 5,6, -7,9]), transform it into a 2x2 matrix and calculate the maximum and minimum of each row and column. "
   ]
  },
  {
   "cell_type": "code",
   "execution_count": 264,
   "metadata": {},
   "outputs": [
    {
     "name": "stdout",
     "output_type": "stream",
     "text": [
      "max of top row is 6\n",
      "min of top row is -5\n",
      "max of bottom row is 9\n",
      "min of bottom row is -7\n",
      "max of left column is -5\n",
      "min of left column is -7\n",
      "max of right column is 9\n",
      "min of right column is 6\n"
     ]
    }
   ],
   "source": [
    "# your code:\n",
    "x = np.array ([- 5,6, -7,9])\n",
    "x_reshaped = x.reshape(2, 2)\n",
    "\n",
    "#np min and max find the min and max values for a row or column in an np array\n",
    "max_top = np.max(x_reshaped[0])\n",
    "min_top = np.min(x_reshaped[0])\n",
    "print(\"max of top row is\", max_top)\n",
    "print(\"min of top row is\", min_top)\n",
    "\n",
    "max_btm = np.max(x_reshaped[1])\n",
    "min_btm = np.min(x_reshaped[1])\n",
    "print(\"max of bottom row is\", max_btm)\n",
    "print(\"min of bottom row is\", min_btm)\n",
    "\n",
    "max_lft = np.max(x_reshaped[:,0])\n",
    "min_lft = np.min(x_reshaped[:,0])\n",
    "print(\"max of left column is\", max_lft)\n",
    "print(\"min of left column is\", min_lft)\n",
    "\n",
    "max_rgt = np.max(x_reshaped[:,1])\n",
    "min_rgt = np.min(x_reshaped[:,1])\n",
    "print(\"max of right column is\", max_rgt)\n",
    "print(\"min of right column is\", min_rgt)\n",
    "\n"
   ]
  },
  {
   "cell_type": "markdown",
   "metadata": {},
   "source": [
    "#### Create a matrix of ones with 3x3 range as a_ones, and modify the the a_ones[1][0] = 3  "
   ]
  },
  {
   "cell_type": "code",
   "execution_count": 266,
   "metadata": {},
   "outputs": [
    {
     "name": "stdout",
     "output_type": "stream",
     "text": [
      "[[1. 1. 1.]\n",
      " [3. 1. 1.]\n",
      " [1. 1. 1.]]\n",
      "(3, 3)\n"
     ]
    }
   ],
   "source": [
    "# your code:\n",
    "\n",
    "#np ones makes an array of the specified size, filled with ones.\n",
    "a_ones = np.ones((3, 3))\n",
    "\n",
    "#manually modift 1,0 to be three. dont think theres a simpler way to do that.\n",
    "a_ones[1][0] = 3\n",
    "\n",
    "print(a_ones)\n",
    "print(a_ones.shape)"
   ]
  },
  {
   "cell_type": "markdown",
   "metadata": {},
   "source": [
    "#### Compute dot product for a_ones and x_reshaped"
   ]
  },
  {
   "cell_type": "code",
   "execution_count": 268,
   "metadata": {},
   "outputs": [
    {
     "name": "stdout",
     "output_type": "stream",
     "text": [
      "[[1. 1. 1.]\n",
      " [3. 1. 1.]\n",
      " [1. 1. 1.]]\n",
      "[[-5  6  0]\n",
      " [-7  9  0]\n",
      " [ 0  0  0]]\n",
      "[[-12.  15.   0.]\n",
      " [-22.  27.   0.]\n",
      " [-12.  15.   0.]]\n"
     ]
    }
   ],
   "source": [
    "# your code\n",
    "#as is, i dont think a dot product can be calculated between a 2x2 and 3x3 matrix\n",
    "# i will redeclare a_ones as a 3x3\n",
    "\n",
    "\n",
    "#np.pad extends 2d arrays. had to look this one up, will explain to demonstrate understanding\n",
    "#operators are:\n",
    "    #the input array,\n",
    "    #where to put new values (at the top or bottom of columns, left or right of rows)\n",
    "    #pad with a user-set number (as opposed to a number dictated by the others in the array) \n",
    "    #number to pad with (in my case 0)\n",
    "x_reshaped = np.pad(x_reshaped, ((0, 1), (0, 1)), mode='constant', constant_values=0)\n",
    "print(a_ones)\n",
    "print(x_reshaped)\n",
    "\n",
    "\n",
    "# np.dot finds dot product\n",
    "result = np.dot(a_ones, x_reshaped)\n",
    "print(result)\n",
    "# List the mathematical calculation steps\n",
    "#result[0,0]=(1×−5)+(1×−7)+(1x0) = -12\n",
    "#result[0,1]=(1×6)+(1×9)+(1x0) = 15\n",
    "#result[0,2]=(1×0)+(1×0)+(1x0) = 0\n",
    "\n",
    "#result[1,0]=(3×−5)+(1×−7)+(1x0) = -22\n",
    "#result[1,1]=(3×6)+(1×9)+(1x0) = 27\n",
    "#result[1,2]=(3×0)+(1×0)+(1x0) = 0\n",
    "\n",
    "#result[2,0]=(1×−5)+(1×−7)+(1x0) = -12\n",
    "#result[2,1]=(1×6)+(1×9)+(1x0) = 15\n",
    "#result[2,2]=(1×0)+(1×0)+(1x0) = 0\n",
    "\n"
   ]
  },
  {
   "cell_type": "markdown",
   "metadata": {},
   "source": [
    "## Exercise 2 - Plot Practice"
   ]
  },
  {
   "cell_type": "markdown",
   "metadata": {},
   "source": [
    "#### Undergraduate student Instructions (CS457)\n",
    "\n",
    "- Let's think if we have this function: f (t) defined by: f (t) = 2t / (1 + t ^ 2) ^ 2 with t> 0.\n",
    "- Where t could be generated by np.linspace(0,10,100)\n",
    "- Provide plot results"
   ]
  },
  {
   "cell_type": "code",
   "execution_count": 271,
   "metadata": {},
   "outputs": [],
   "source": [
    "# Your code:\n",
    "# math function is also py function!\n",
    "def f(t):\n",
    "    return (2 * t) / (1 + t**2)**2\n",
    "\n"
   ]
  },
  {
   "cell_type": "code",
   "execution_count": 357,
   "metadata": {},
   "outputs": [
    {
     "data": {
      "image/png": "[encoded data removed]",
      "text/plain": [
       "<Figure size 800x600 with 1 Axes>"
      ]
     },
     "metadata": {},
     "output_type": "display_data"
    }
   ],
   "source": [
    "#im changing t to x so my brain can remember how to do the math at a glance\n",
    "\n",
    "\n",
    "# vars for x and y Where x could be generated by np.linspace(0,10,100)\n",
    "x = np.linspace(0, 10, 100)\n",
    "y = f(x)\n",
    "\n",
    "# plot size as (8,5)\n",
    "plt.figure(figsize=(8, 6))\n",
    "\n",
    "# Plot graph with x, y and label set the fontsize = 14 \n",
    "plt.plot(x, y, label=r'$f(x) = \\frac{2x}{(1 + x^2)^2}$')\n",
    "plt.xlabel('x', fontsize=14)\n",
    "plt.ylabel('y', fontsize=14)\n",
    "plt.legend(fontsize=14)\n",
    "\n",
    "# Plot <Your Name> + title and set the fontsize = 14\n",
    "plt.title(\"Ian + Graph of $y = \\\\frac{2x}{(1+x^2)^2}$\", fontsize=14)\n",
    "\n",
    "\n",
    "# plot with grid\n",
    "plt.grid(True)\n",
    "\n",
    "\n",
    "\n",
    "plt.show()"
   ]
  },
  {
   "cell_type": "markdown",
   "metadata": {
    "jp-MarkdownHeadingCollapsed": true
   },
   "source": [
    "#### Graduate student Instructions (CS557)\n",
    "\n",
    "- Let's think if we have this function: f (t) defined by: f (t) = 2t / (1 + t ^ 2) ^ 2 with t> 0.\n",
    "- Where t could be generated by np.linspace(0,10,100)\n",
    "- Provide line graph with mask = star\n",
    "- Provide bar graph with any 5 points data"
   ]
  },
  {
   "cell_type": "code",
   "execution_count": 274,
   "metadata": {},
   "outputs": [],
   "source": [
    "# Your code:\n"
   ]
  },
  {
   "cell_type": "code",
   "execution_count": 275,
   "metadata": {},
   "outputs": [
    {
     "data": {
      "image/png": "[encoded data removed]",
      "text/plain": [
       "<Figure size 640x480 with 1 Axes>"
      ]
     },
     "metadata": {},
     "output_type": "display_data"
    }
   ],
   "source": [
    "# Line Graph\n",
    "# Plot graph with x, y and label set the fontsize = 14\n",
    "# Plot <Your Name> + title and set the fontsize = 14\n",
    "# plot size as (8,5)\n",
    "# plot with legend\n",
    "# plot with grid\n",
    "\n",
    "\n",
    "plt.title(\"<Your Name> + Graph of $y = \\\\frac{2x}{(1+x^2)^2}$\", fontsize=14)\n",
    "\n",
    "plt.show()"
   ]
  },
  {
   "cell_type": "code",
   "execution_count": 276,
   "metadata": {},
   "outputs": [
    {
     "data": {
      "image/png": "[encoded data removed]",
      "text/plain": [
       "<Figure size 640x480 with 1 Axes>"
      ]
     },
     "metadata": {},
     "output_type": "display_data"
    }
   ],
   "source": [
    "# Bar Graph\n",
    "# Plot graph with x, y and label set the fontsize = 14\n",
    "# Plot <Your Name> + title and set the fontsize = 14\n",
    "# plot size as (8,5)\n",
    "# plot with legend\n",
    "# plot with grid\n",
    "\n",
    "\n",
    "plt.title(\"<Your Name> + Graph of $y = \\\\frac{2x}{(1+x^2)^2}$\", fontsize=14)\n",
    "\n",
    "plt.show()"
   ]
  },
  {
   "cell_type": "markdown",
   "metadata": {},
   "source": [
    "# Exercise 3 - Pandas "
   ]
  },
  {
   "cell_type": "code",
   "execution_count": 278,
   "metadata": {},
   "outputs": [
    {
     "ename": "SyntaxError",
     "evalue": "illegal target for annotation (2649930777.py, line 4)",
     "output_type": "error",
     "traceback": [
      "\u001b[1;36m  Cell \u001b[1;32mIn[278], line 4\u001b[1;36m\u001b[0m\n\u001b[1;33m    \"Hill Name\": [\"Everest\", \"K2\", \"Kangchenjunga\", \"Lhotse\", \"Makalu\", \"Cho Oyu\", \"Dhaulagiri\", \"Manaslu\", \"Nanga Parbat\", \"Annapurna\"],\u001b[0m\n\u001b[1;37m    ^\u001b[0m\n\u001b[1;31mSyntaxError\u001b[0m\u001b[1;31m:\u001b[0m illegal target for annotation\n"
     ]
    }
   ],
   "source": [
    "#### You have obtained a piece of data about a hill. Please manually assign this data to a dictionary.\n",
    "\n",
    "\n",
    "\"Hill Name\": [\"Everest\", \"K2\", \"Kangchenjunga\", \"Lhotse\", \"Makalu\", \"Cho Oyu\", \"Dhaulagiri\", \"Manaslu\", \"Nanga Parbat\", \"Annapurna\"],\n",
    "\n",
    "\"Height (m)\": [8848, 8611, 8586, 8516, 8485, 8188, 8167, 8163, 8126, 8091],\n",
    "\n",
    "\"Location\": [\"Nepal/China\", \"Pakistan/China\", \"Nepal/India\", \"Nepal/China\", \"Nepal/China\", \"Nepal/China\", \"Nepal\", \"Nepal\", \"Pakistan\", \"Nepal\"],\n",
    "\n",
    "\"First Ascent Year\": [1953, 1954, 1955, 1956, 1955, 1954, 1960, 1956, 1953, 1950],\n",
    "\n",
    "\"Prominence (m)\": [8848, 4017, 3922, 610, 2378, 2340, 3357, 3092, 4608, 2984]\n"
   ]
  },
  {
   "cell_type": "code",
   "execution_count": null,
   "metadata": {},
   "outputs": [],
   "source": [
    "# Your code: \n",
    "#split different attributes (name, height etc) into their own dict defonitions,\n",
    "#they can be used in conjuntion with each other via consistant array indexing.\n",
    "hill_data = {\n",
    "    \"Hill Name\": [\"Everest\", \"K2\", \"Kangchenjunga\", \"Lhotse\", \"Makalu\", \"Cho Oyu\", \"Dhaulagiri\", \"Manaslu\", \"Nanga Parbat\", \"Annapurna\"],\n",
    "    \"Height (m)\": [8848, 8611, 8586, 8516, 8485, 8188, 8167, 8163, 8126, 8091],\n",
    "    \"Location\": [\"Nepal/China\", \"Pakistan/China\", \"Nepal/India\", \"Nepal/China\", \"Nepal/China\", \"Nepal/China\", \"Nepal\", \"Nepal\", \"Pakistan\", \"Nepal\"],\n",
    "    \"First Ascent Year\": [1953, 1954, 1955, 1956, 1955, 1954, 1960, 1956, 1953, 1950],\n",
    "    \"Prominence (m)\": [8848, 4017, 3922, 610, 2378, 2340, 3357, 3092, 4608, 2984]\n",
    "}"
   ]
  },
  {
   "cell_type": "markdown",
   "metadata": {},
   "source": [
    "#### Convert your dictionary to a pandas dataframe with name hill_pd"
   ]
  },
  {
   "cell_type": "code",
   "execution_count": null,
   "metadata": {},
   "outputs": [],
   "source": [
    "\n",
    "#Your code:\n",
    "# your code\n",
    "import matplotlib.pyplot as plt\n",
    "import pandas as pd\n",
    "#DataFrame() converts input to data frame\n",
    "data = pd.DataFrame(hill_data)"
   ]
  },
  {
   "cell_type": "markdown",
   "metadata": {},
   "source": [
    "#### Save your hill_pd to csv"
   ]
  },
  {
   "cell_type": "code",
   "execution_count": null,
   "metadata": {},
   "outputs": [],
   "source": [
    "# Your code:\n",
    "# to_csv saves to csv\n",
    "data.to_csv('hill.csv', index=False)\n"
   ]
  },
  {
   "cell_type": "markdown",
   "metadata": {},
   "source": [
    "#### Read your hill data from your csv"
   ]
  },
  {
   "cell_type": "code",
   "execution_count": null,
   "metadata": {},
   "outputs": [],
   "source": [
    "# your code\n",
    "# read_csv reads csv file back as input data\n",
    "data = pd.read_csv('hill.csv')\n"
   ]
  },
  {
   "cell_type": "markdown",
   "metadata": {},
   "source": [
    "#### Please select hills with an altitude higher than 8100 meters and express them in the form of a bar graph."
   ]
  },
  {
   "cell_type": "code",
   "execution_count": 287,
   "metadata": {},
   "outputs": [],
   "source": [
    "# your code:\n",
    "# data can be sorted\n",
    "selected_hills  = data[data[\"Height (m)\"] > 8100]"
   ]
  },
  {
   "cell_type": "code",
   "execution_count": 283,
   "metadata": {
    "scrolled": true
   },
   "outputs": [
    {
     "data": {
      "image/png": "[encoded data removed]",
      "text/plain": [
       "<Figure size 640x480 with 1 Axes>"
      ]
     },
     "metadata": {},
     "output_type": "display_data"
    }
   ],
   "source": [
    "# Visualization\n",
    "# Need to add x,y labels, titles and grid.\n",
    "# Please add your name on graph titles.\n",
    "\n",
    "#jupyter forgot i wrote the previous code?\n",
    "hill_data = {\n",
    "    \"Hill Name\": [\"Everest\", \"K2\", \"Kangchenjunga\", \"Lhotse\", \"Makalu\", \"Cho Oyu\", \"Dhaulagiri\", \"Manaslu\", \"Nanga Parbat\", \"Annapurna\"],\n",
    "    \"Height (m)\": [8848, 8611, 8586, 8516, 8485, 8188, 8167, 8163, 8126, 8091],\n",
    "    \"Location\": [\"Nepal/China\", \"Pakistan/China\", \"Nepal/India\", \"Nepal/China\", \"Nepal/China\", \"Nepal/China\", \"Nepal\", \"Nepal\", \"Pakistan\", \"Nepal\"],\n",
    "    \"First Ascent Year\": [1953, 1954, 1955, 1956, 1955, 1954, 1960, 1956, 1953, 1950],\n",
    "    \"Prominence (m)\": [8848, 4017, 3922, 610, 2378, 2340, 3357, 3092, 4608, 2984]\n",
    "}\n",
    "data = pd.DataFrame(hill_data)\n",
    "selected_hills  = data[data[\"Height (m)\"] > 8100]\n",
    "\n",
    "\n",
    "# get lables from dataframe for names and heights\n",
    "hill_names = selected_hills[\"Hill Name\"]\n",
    "heights = selected_hills[\"Height (m)\"]\n",
    "\n",
    "#plot graph\n",
    "plt.bar(hill_names, heights)\n",
    "\n",
    "# add labels and title\n",
    "plt.xlabel('Hill Name')\n",
    "plt.ylabel('Height (m)')\n",
    "plt.title('Hills Higher than 8100 Meters')\n",
    "plt.show()"
   ]
  },
  {
   "cell_type": "markdown",
   "metadata": {},
   "source": [
    "#### For Graduate students only (CS557)\n",
    "\n",
    "Please add another set of visualizations using the **Prominence** data and explain their significance."
   ]
  },
  {
   "cell_type": "code",
   "execution_count": null,
   "metadata": {},
   "outputs": [],
   "source": []
  }
 ],
 "metadata": {
  "kernelspec": {
   "display_name": "Python [conda env:base] *",
   "language": "python",
   "name": "conda-base-py"
  },
  "language_info": {
   "codemirror_mode": {
    "name": "ipython",
    "version": 3
   },
   "file_extension": ".py",
   "mimetype": "text/x-python",
   "name": "python",
   "nbconvert_exporter": "python",
   "pygments_lexer": "ipython3",
   "version": "3.12.7"
  }
 },
 "nbformat": 4,
 "nbformat_minor": 4
}
